{
 "cells": [
  {
   "cell_type": "code",
   "execution_count": null,
   "metadata": {},
   "outputs": [],
   "source": [
    "import queue\n",
    "import os\n",
    "import urllib\n",
    "import re\n",
    "from bs4 import BeautifulSoup\n",
    "from selenium import webdriver\n",
    "import urllib.robotparser\n",
    "from urllib.parse import urlparse\n",
    "import requests \n",
    "import csv"
   ]
  },
  {
   "cell_type": "code",
   "execution_count": null,
   "metadata": {},
   "outputs": [],
   "source": [
    "driver = webdriver.Chrome('/Users/apple/Downloads/chromedriver') \n",
    "driver.get('https://www.macys.com/shop/jewelry-watches/shop-all-watches/Productsperpage/120?id=239616');\n",
    "\n",
    "#def is_absolute(url): \n",
    " #   return bool(urlparse(url).netloc)\n",
    "\n",
    "rp = urllib.robotparser.RobotFileParser()\n",
    "\n",
    "item = BeautifulSoup(driver.page_source, 'html.parser')    \n",
    "f = csv.writer(open('macys.csv', 'w'))\n",
    "f.writerow(['Link', 'name', 'brand', 'image','price'])\n",
    "item_link = [item.find_element_by_tag_name('a').get_attribute('href') for item in driver.find_elements_by_css_selector('div.productDescription')]\n",
    "for newlink in item_link:\n",
    "        res = requests.get(newlink,headers={\"User-Agent\":\"Mozilla/5.0\"})\n",
    "        soup = BeautifulSoup(res.text,\"lxml\")\n",
    "        name = soup.select_one(\"h1[itemprop='name']\").text.strip()\n",
    "        brand = soup.select_one((\"a[data-auto='product-brand']\")).text.strip()\n",
    "        price = soup.select_one(\"div[class='price']\").text.strip()\n",
    "        image = soup.find(\"img\", {\"data-name\" : \"img\"})\n",
    "        #first_page = print([newlink, name , brand , image['src'], price])\n",
    "        f.writerow([newlink, name , brand , image['src'], price])"
   ]
  },
  {
   "cell_type": "code",
   "execution_count": null,
   "metadata": {},
   "outputs": [],
   "source": [
    "rp = urllib.robotparser.RobotFileParser()\n",
    "for i in range(2,89):\n",
    "    driver = webdriver.Chrome('/Users/apple/Downloads/chromedriver') \n",
    "    driver.get('https://www.macys.com/shop/jewelry-watches/shop-all-watches/Pageindex,Productsperpage/'+str(i)+',120?id=239616')\n",
    "    rp = urllib.robotparser.RobotFileParser()\n",
    "    item = BeautifulSoup(driver.page_source, 'html.parser')  \n",
    "    item_link = [item.find_element_by_tag_name('a').get_attribute('href') for item in driver.find_elements_by_css_selector('div.productDescription')]\n",
    "    \n",
    "    for newlink in item_link:\n",
    "        res = requests.get(newlink,headers={\"User-Agent\":\"Mozilla/5.0\"})\n",
    "        soup = BeautifulSoup(res.text,\"lxml\")\n",
    "        name = soup.select_one(\"h1[itemprop='name']\").text.strip()\n",
    "        price = soup.select_one(\"div[class='price']\").text.strip()\n",
    "        brand = soup.select_one((\"a[data-auto='product-brand']\")).text.strip()\n",
    "        image = soup.find(\"img\", {\"data-name\" : \"img\"})\n",
    "        f.writerow([newlink, name , brand , image['src'], price])\n",
    "        #pages = print([newlink, name , brand , image['src'], price])"
   ]
  },
  {
   "cell_type": "code",
   "execution_count": null,
   "metadata": {},
   "outputs": [],
   "source": []
  },
  {
   "cell_type": "code",
   "execution_count": null,
   "metadata": {},
   "outputs": [],
   "source": []
  },
  {
   "cell_type": "code",
   "execution_count": null,
   "metadata": {},
   "outputs": [],
   "source": []
  }
 ],
 "metadata": {
  "kernelspec": {
   "display_name": "Python 3",
   "language": "python",
   "name": "python3"
  },
  "language_info": {
   "codemirror_mode": {
    "name": "ipython",
    "version": 3
   },
   "file_extension": ".py",
   "mimetype": "text/x-python",
   "name": "python",
   "nbconvert_exporter": "python",
   "pygments_lexer": "ipython3",
   "version": "3.7.1"
  }
 },
 "nbformat": 4,
 "nbformat_minor": 4
}
